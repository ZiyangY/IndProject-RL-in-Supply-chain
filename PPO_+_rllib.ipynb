{
  "nbformat": 4,
  "nbformat_minor": 0,
  "metadata": {
    "colab": {
      "name": "PPO + rllib.ipynb",
      "provenance": [],
      "collapsed_sections": [],
      "machine_shape": "hm"
    },
    "kernelspec": {
      "display_name": "Python 3",
      "name": "python3"
    },
    "language_info": {
      "name": "python"
    }
  },
  "cells": [
    {
      "cell_type": "code",
      "metadata": {
        "colab": {
          "base_uri": "https://localhost:8080/"
        },
        "id": "Sxn7DEGzD8NP",
        "outputId": "f92a5141-0d57-41e9-b9b9-274c0d6f57c7"
      },
      "source": [
        "import sys\n",
        "\n",
        "!test -d or-gym || git clone https://github.com/hubbs5/or-gym.git or-gym\n",
        "if not 'or-gym' in sys.path:\n",
        "    sys.path += ['or-gym']\n",
        "\n",
        "!cd or-gym && pip install -q --editable ."
      ],
      "execution_count": null,
      "outputs": [
        {
          "output_type": "stream",
          "text": [
            "Cloning into 'or-gym'...\n",
            "remote: Enumerating objects: 2749, done.\u001b[K\n",
            "remote: Counting objects: 100% (212/212), done.\u001b[K\n",
            "remote: Compressing objects: 100% (136/136), done.\u001b[K\n",
            "remote: Total 2749 (delta 114), reused 150 (delta 75), pack-reused 2537\u001b[K\n",
            "Receiving objects: 100% (2749/2749), 24.91 MiB | 30.85 MiB/s, done.\n",
            "Resolving deltas: 100% (1659/1659), done.\n"
          ],
          "name": "stdout"
        }
      ]
    },
    {
      "cell_type": "code",
      "metadata": {
        "colab": {
          "base_uri": "https://localhost:8080/"
        },
        "id": "NIgnaeOyDytW",
        "outputId": "8b23f00d-42ab-4222-cad1-a79f1b81d4ee"
      },
      "source": [
        "gpu_info = !nvidia-smi\n",
        "gpu_info = '\\n'.join(gpu_info)\n",
        "if gpu_info.find('failed') >= 0:\n",
        "  print('Select the Runtime > \"Change runtime type\" menu to enable a GPU accelerator, ')\n",
        "  print('and then re-execute this cell.')\n",
        "else:\n",
        "  print(gpu_info)"
      ],
      "execution_count": null,
      "outputs": [
        {
          "output_type": "stream",
          "text": [
            "Select the Runtime > \"Change runtime type\" menu to enable a GPU accelerator, \n",
            "and then re-execute this cell.\n"
          ],
          "name": "stdout"
        }
      ]
    },
    {
      "cell_type": "code",
      "metadata": {
        "id": "xrHqHFS-DdwG",
        "colab": {
          "base_uri": "https://localhost:8080/"
        },
        "outputId": "2b2344fe-a488-40b3-8905-caf1562c65e1"
      },
      "source": [
        "!pip install ray\n",
        "#!pip install numpy==1.19.5"
      ],
      "execution_count": null,
      "outputs": [
        {
          "output_type": "stream",
          "text": [
            "Collecting ray\n",
            "  Downloading ray-1.6.0-cp37-cp37m-manylinux2014_x86_64.whl (49.6 MB)\n",
            "\u001b[K     |████████████████████████████████| 49.6 MB 14 kB/s \n",
            "\u001b[?25hRequirement already satisfied: pyyaml in /usr/local/lib/python3.7/dist-packages (from ray) (3.13)\n",
            "Requirement already satisfied: msgpack<2.0.0,>=1.0.0 in /usr/local/lib/python3.7/dist-packages (from ray) (1.0.2)\n",
            "Requirement already satisfied: numpy>=1.16 in /usr/local/lib/python3.7/dist-packages (from ray) (1.19.5)\n",
            "Requirement already satisfied: attrs in /usr/local/lib/python3.7/dist-packages (from ray) (21.2.0)\n",
            "Collecting redis>=3.5.0\n",
            "  Downloading redis-3.5.3-py2.py3-none-any.whl (72 kB)\n",
            "\u001b[K     |████████████████████████████████| 72 kB 485 kB/s \n",
            "\u001b[?25hRequirement already satisfied: grpcio>=1.28.1 in /usr/local/lib/python3.7/dist-packages (from ray) (1.39.0)\n",
            "Requirement already satisfied: filelock in /usr/local/lib/python3.7/dist-packages (from ray) (3.0.12)\n",
            "Requirement already satisfied: protobuf>=3.15.3 in /usr/local/lib/python3.7/dist-packages (from ray) (3.17.3)\n",
            "Requirement already satisfied: click>=7.0 in /usr/local/lib/python3.7/dist-packages (from ray) (7.1.2)\n",
            "Requirement already satisfied: six>=1.5.2 in /usr/local/lib/python3.7/dist-packages (from grpcio>=1.28.1->ray) (1.15.0)\n",
            "Installing collected packages: redis, ray\n",
            "Successfully installed ray-1.6.0 redis-3.5.3\n"
          ],
          "name": "stdout"
        }
      ]
    },
    {
      "cell_type": "code",
      "metadata": {
        "id": "pwNPRxBVES2q"
      },
      "source": [
        ""
      ],
      "execution_count": null,
      "outputs": []
    },
    {
      "cell_type": "code",
      "metadata": {
        "id": "vDNRG9qnDrIC"
      },
      "source": [
        "# pip install 'ray[rllib]'"
      ],
      "execution_count": null,
      "outputs": []
    },
    {
      "cell_type": "code",
      "metadata": {
        "id": "OYlOg8ehDvFQ",
        "colab": {
          "base_uri": "https://localhost:8080/"
        },
        "outputId": "ff497a79-7eee-410e-9458-530c1a00e560"
      },
      "source": [
        "pip install ray[Tune]"
      ],
      "execution_count": null,
      "outputs": [
        {
          "output_type": "stream",
          "text": [
            "Requirement already satisfied: ray[Tune] in /usr/local/lib/python3.7/dist-packages (1.6.0)\n",
            "Requirement already satisfied: click>=7.0 in /usr/local/lib/python3.7/dist-packages (from ray[Tune]) (7.1.2)\n",
            "Requirement already satisfied: protobuf>=3.15.3 in /usr/local/lib/python3.7/dist-packages (from ray[Tune]) (3.17.3)\n",
            "Requirement already satisfied: msgpack<2.0.0,>=1.0.0 in /usr/local/lib/python3.7/dist-packages (from ray[Tune]) (1.0.2)\n",
            "Requirement already satisfied: attrs in /usr/local/lib/python3.7/dist-packages (from ray[Tune]) (21.2.0)\n",
            "Requirement already satisfied: redis>=3.5.0 in /usr/local/lib/python3.7/dist-packages (from ray[Tune]) (3.5.3)\n",
            "Requirement already satisfied: filelock in /usr/local/lib/python3.7/dist-packages (from ray[Tune]) (3.0.12)\n",
            "Requirement already satisfied: numpy>=1.16 in /usr/local/lib/python3.7/dist-packages (from ray[Tune]) (1.19.5)\n",
            "Requirement already satisfied: pyyaml in /usr/local/lib/python3.7/dist-packages (from ray[Tune]) (3.13)\n",
            "Requirement already satisfied: grpcio>=1.28.1 in /usr/local/lib/python3.7/dist-packages (from ray[Tune]) (1.39.0)\n",
            "Requirement already satisfied: pandas in /usr/local/lib/python3.7/dist-packages (from ray[Tune]) (1.1.5)\n",
            "Collecting tensorboardX>=1.9\n",
            "  Downloading tensorboardX-2.4-py2.py3-none-any.whl (124 kB)\n",
            "\u001b[K     |████████████████████████████████| 124 kB 5.2 MB/s \n",
            "\u001b[?25hRequirement already satisfied: tabulate in /usr/local/lib/python3.7/dist-packages (from ray[Tune]) (0.8.9)\n",
            "Requirement already satisfied: requests in /usr/local/lib/python3.7/dist-packages (from ray[Tune]) (2.23.0)\n",
            "Requirement already satisfied: six>=1.5.2 in /usr/local/lib/python3.7/dist-packages (from grpcio>=1.28.1->ray[Tune]) (1.15.0)\n",
            "Requirement already satisfied: python-dateutil>=2.7.3 in /usr/local/lib/python3.7/dist-packages (from pandas->ray[Tune]) (2.8.2)\n",
            "Requirement already satisfied: pytz>=2017.2 in /usr/local/lib/python3.7/dist-packages (from pandas->ray[Tune]) (2018.9)\n",
            "Requirement already satisfied: chardet<4,>=3.0.2 in /usr/local/lib/python3.7/dist-packages (from requests->ray[Tune]) (3.0.4)\n",
            "Requirement already satisfied: urllib3!=1.25.0,!=1.25.1,<1.26,>=1.21.1 in /usr/local/lib/python3.7/dist-packages (from requests->ray[Tune]) (1.24.3)\n",
            "Requirement already satisfied: certifi>=2017.4.17 in /usr/local/lib/python3.7/dist-packages (from requests->ray[Tune]) (2021.5.30)\n",
            "Requirement already satisfied: idna<3,>=2.5 in /usr/local/lib/python3.7/dist-packages (from requests->ray[Tune]) (2.10)\n",
            "Installing collected packages: tensorboardX\n",
            "Successfully installed tensorboardX-2.4\n"
          ],
          "name": "stdout"
        }
      ]
    },
    {
      "cell_type": "code",
      "metadata": {
        "id": "Pp40FnURD1_q",
        "colab": {
          "base_uri": "https://localhost:8080/"
        },
        "outputId": "0699b9b2-9a4e-4417-81ae-d20431354b11"
      },
      "source": [
        "import or_gym\n",
        "from or_gym.utils import create_env\n",
        "import ray\n",
        "from ray.rllib import agents\n",
        "from ray import tune\n",
        "import numpy as np\n",
        "import matplotlib.pyplot as plt\n",
        "from matplotlib import gridspec"
      ],
      "execution_count": null,
      "outputs": [
        {
          "output_type": "stream",
          "text": [
            "lz4 not available, disabling sample compression. This will significantly impact RLlib performance. To install lz4, run `pip install lz4`.\n"
          ],
          "name": "stderr"
        }
      ]
    },
    {
      "cell_type": "code",
      "metadata": {
        "id": "RVbrFIxJE3GY",
        "colab": {
          "base_uri": "https://localhost:8080/",
          "height": 103
        },
        "outputId": "ae8987b3-fb9f-485f-911e-dab7f325618b"
      },
      "source": [
        "'''\n",
        "# set default (arbitrary) values when creating environment (if no args or kwargs are given)\n",
        "self.periods = 30   # [positive integer] number of periods in simulation.\n",
        "self.I0 = [100, 100, 200]   # [non-negative integer; dimension |Stages|-1] initial inventories for each stage.\n",
        "self.p = 2    # [positive float] unit price for final product.\n",
        "self.r = [1.5, 1.0, 0.75, 0.5]    #  [non-negative float; dimension |Stages|] unit cost for replenishment orders at each stage.\n",
        "self.k = [0.10, 0.075, 0.05, 0.025]   # [non-negative float; dimension |Stages|] backlog cost or goodwill loss (per unit) for unfulfilled orders (demand or replenishment orders).\n",
        "self.h = [0.15, 0.10, 0.05] # [non-negative float; dimension |Stages|-1] unit holding cost for excess on-hand inventory at each stage.(Note: does not include pipeline inventory).\n",
        "self.c = [100, 90, 80]    # [positive integer; dimension |Stages|-1] production capacities for each suppliers (stages 1 through |Stage|).\n",
        "self.L = [3, 5, 10]     # [non-negative integer; dimension |Stages|-1] lead times in betwen stages.\n",
        "self.backlog = True\n",
        "self.dist = 1\n",
        "self.dist_param = {'mu': 20}\n",
        "self.alpha = 0.97\n",
        "self.seed_int = 0\n",
        "self.user_D = np.zeros(self.periods)\n",
        "self._max_rewards = 2000\n",
        "'''"
      ],
      "execution_count": null,
      "outputs": [
        {
          "output_type": "execute_result",
          "data": {
            "application/vnd.google.colaboratory.intrinsic+json": {
              "type": "string"
            },
            "text/plain": [
              "\"\\n# set default (arbitrary) values when creating environment (if no args or kwargs are given)\\nself.periods = 30   # [positive integer] number of periods in simulation.\\nself.I0 = [100, 100, 200]   # [non-negative integer; dimension |Stages|-1] initial inventories for each stage.\\nself.p = 2    # [positive float] unit price for final product.\\nself.r = [1.5, 1.0, 0.75, 0.5]    #  [non-negative float; dimension |Stages|] unit cost for replenishment orders at each stage.\\nself.k = [0.10, 0.075, 0.05, 0.025]   # [non-negative float; dimension |Stages|] backlog cost or goodwill loss (per unit) for unfulfilled orders (demand or replenishment orders).\\nself.h = [0.15, 0.10, 0.05] # [non-negative float; dimension |Stages|-1] unit holding cost for excess on-hand inventory at each stage.(Note: does not include pipeline inventory).\\nself.c = [100, 90, 80]    # [positive integer; dimension |Stages|-1] production capacities for each suppliers (stages 1 through |Stage|).\\nself.L = [3, 5, 10]     # [non-negative integer; dimension |Stages|-1] lead times in betwen stages.\\nself.backlog = True\\nself.dist = 1\\nself.dist_param = {'mu': 20}\\nself.alpha = 0.97\\nself.seed_int = 0\\nself.user_D = np.zeros(self.periods)\\nself._max_rewards = 2000\\n\""
            ]
          },
          "metadata": {},
          "execution_count": 2
        }
      ]
    },
    {
      "cell_type": "code",
      "metadata": {
        "id": "WgJFTdh-ExJZ"
      },
      "source": [
        "# env_config = {'dist':6,\n",
        "#               'dist_param' : {'scale':2,'loc':20}}\n",
        "env_config = {}\n",
        "# env_config = {'periods': 50,\n",
        "#           'I0':[100,100,100,200],\n",
        "#           'r':[2.50, 2.00,1.00,0.75,0.50],\n",
        "#           'k':[0.15,0.10,0.075,0.05, 0.025],\n",
        "#           'h':[0.3,0.15,0.10,0.05],\n",
        "#           'c':[130,100,90,80],\n",
        "#           'L':[5,7,10,15],\n",
        "#           'max_rewards':1000}\n",
        "# env_config = {'periods': 10,\n",
        "#           'I0':[100,200],\n",
        "#           'r':[1.00,0.75,0.50],\n",
        "#           'k':[0.075,0.05, 0.025],\n",
        "#           'h':[0.10,0.05],\n",
        "#           'c':[90,80],\n",
        "#           'L':[3,5],\n",
        "#           'max_rewards':1000}\n",
        "env_name = 'InvManagement-v1'\n",
        "f=open(\"default ppo default.txt\",\"w\")\n",
        "# env = or_gym.make('InvManagement-v1', env_config=env_config)\n",
        "\n"
      ],
      "execution_count": null,
      "outputs": []
    },
    {
      "cell_type": "code",
      "metadata": {
        "id": "PzAyJ65gIO-2"
      },
      "source": [
        "def register_env(env_name, env_config={}):\n",
        "    env = create_env(env_name)\n",
        "    tune.register_env(env_name, \n",
        "        lambda env_name: env(env_name,\n",
        "            env_config=env_config))"
      ],
      "execution_count": null,
      "outputs": []
    },
    {
      "cell_type": "code",
      "metadata": {
        "id": "B8jL-ZDLTFOK"
      },
      "source": [
        "rl_config = dict(\n",
        "    env=env_name,\n",
        "    num_workers=2,\n",
        "    env_config=env_config,\n",
        "    train_batch_size = 1000,\n",
        "\n",
        "    # model=dict(\n",
        "    #     # vf_share_layers=False,\n",
        "    #     fcnet_activation='elu',\n",
        "    #     fcnet_hiddens=[256, 256],\n",
        "    #     lstm_cell_size = 64,\n",
        "    #     # max_seq_len =  20,\n",
        "    #     vf_share_layers= False,\n",
        "    #     use_lstm=True,\n",
        "    #     lstm_use_prev_action = True,\n",
        "    #     lstm_use_prev_reward = True,\n",
        "    # ),\n",
        "    # lr=1e-2\n",
        "    \n",
        "    #default ppo parameters\n",
        "    model=dict(\n",
        "        vf_share_layers=False,\n",
        "        fcnet_activation='elu',\n",
        "        fcnet_hiddens=[256, 256]\n",
        "    ),\n",
        "    lr=1e-5\n",
        ")\n",
        "# Register environment\n",
        "register_env(env_name, env_config)\n",
        "\n"
      ],
      "execution_count": null,
      "outputs": []
    },
    {
      "cell_type": "code",
      "metadata": {
        "id": "RQ5UByAmTJaI",
        "colab": {
          "base_uri": "https://localhost:8080/"
        },
        "outputId": "38e2f2b2-af72-4403-868d-8cc7514a66b0"
      },
      "source": [
        "ray.init(ignore_reinit_error=True)\n",
        "agent = agents.ppo.PPOTrainer(env=env_name, config=rl_config)\n",
        "results = []\n",
        "for i in range(550):\n",
        "    res = agent.train()\n",
        "    results.append(res)\n",
        "    f.write(str(res['episode_reward_mean']))\n",
        "    f.write(\"\\n\")\n",
        "    print('\\rIter: {}\\tReward: {:.2f}'.format(i + 1, res['episode_reward_mean']), end='')"
      ],
      "execution_count": null,
      "outputs": [
        {
          "output_type": "stream",
          "text": [
            "/usr/local/lib/python3.7/dist-packages/ray/_private/services.py:238: UserWarning: Not all Ray Dashboard dependencies were found. To use the dashboard please install Ray using `pip install ray[default]`. To disable this message, set RAY_DISABLE_IMPORT_WARNING env var to '1'.\n",
            "  warnings.warn(warning_message)\n",
            "2021-08-24 23:57:59,409\tINFO trainer.py:714 -- Tip: set framework=tfe or the --eager flag to enable TensorFlow eager execution\n",
            "2021-08-24 23:57:59,411\tWARNING ppo.py:143 -- `train_batch_size` (1000) cannot be achieved with your other settings (num_workers=2 num_envs_per_worker=1 rollout_fragment_length=200)! Auto-adjusting `rollout_fragment_length` to 500.\n",
            "2021-08-24 23:57:59,413\tINFO ppo.py:159 -- In multi-agent mode, policies will be optimized sequentially by the multi-GPU optimizer. Consider setting simple_optimizer=True if this doesn't work for you.\n",
            "2021-08-24 23:57:59,421\tINFO trainer.py:728 -- Current log_level is WARN. For more information, set 'log_level': 'INFO' / 'DEBUG' or use the -v and -vv flags.\n",
            "\u001b[2m\u001b[36m(pid=562)\u001b[0m 2021-08-24 23:58:02,818\tWARNING compression.py:16 -- lz4 not available, disabling sample compression. This will significantly impact RLlib performance. To install lz4, run `pip install lz4`.\n",
            "\u001b[2m\u001b[36m(pid=561)\u001b[0m 2021-08-24 23:58:02,848\tWARNING compression.py:16 -- lz4 not available, disabling sample compression. This will significantly impact RLlib performance. To install lz4, run `pip install lz4`.\n",
            "\u001b[2m\u001b[36m(pid=562)\u001b[0m /usr/local/lib/python3.7/dist-packages/gym/logger.py:30: UserWarning: \u001b[33mWARN: Box bound precision lowered by casting to float32\u001b[0m\n",
            "\u001b[2m\u001b[36m(pid=562)\u001b[0m   warnings.warn(colorize('%s: %s'%('WARN', msg % args), 'yellow'))\n",
            "\u001b[2m\u001b[36m(pid=561)\u001b[0m /usr/local/lib/python3.7/dist-packages/gym/logger.py:30: UserWarning: \u001b[33mWARN: Box bound precision lowered by casting to float32\u001b[0m\n",
            "\u001b[2m\u001b[36m(pid=561)\u001b[0m   warnings.warn(colorize('%s: %s'%('WARN', msg % args), 'yellow'))\n",
            "2021-08-24 23:58:06,720\tWARNING util.py:55 -- Install gputil for GPU system monitoring.\n",
            "2021-08-24 23:58:07,821\tWARNING deprecation.py:39 -- DeprecationWarning: `slice` has been deprecated. Use `SampleBatch[start:stop]` instead. This will raise an error in the future!\n"
          ],
          "name": "stderr"
        },
        {
          "output_type": "stream",
          "text": [
            "Iter: 550\tReward: 453.37"
          ],
          "name": "stdout"
        }
      ]
    },
    {
      "cell_type": "code",
      "metadata": {
        "id": "gsv6BzZTVCQy",
        "colab": {
          "base_uri": "https://localhost:8080/"
        },
        "outputId": "5528347f-bdf6-4402-d2d8-9ee506925b12"
      },
      "source": [
        "import numpy as np\n",
        "import matplotlib.pyplot as plt\n",
        "from matplotlib import gridspec\n",
        " \n",
        "# Unpack values from each iteration\n",
        "rewards = np.hstack([i['hist_stats']['episode_reward'] \n",
        "    for i in results])\n",
        "# pol_loss = [\n",
        "#     i['info']['learner']['default_policy']['policy_loss'] for i in results]\n",
        "# vf_loss = [\n",
        "#     i['info']['learner']['default_policy']['vf_loss'] \n",
        "#     for i in results]\n",
        " \n",
        "p = 100\n",
        "mean_rewards = np.array([np.mean(rewards[i-p:i+1]) \n",
        "                if i >= p else np.mean(rewards[:i+1]) \n",
        "                for i, _ in enumerate(rewards)])\n",
        "std_rewards = np.array([np.std(rewards[i-p:i+1])\n",
        "               if i >= p else np.std(rewards[:i+1])\n",
        "               for i, _ in enumerate(rewards)])\n",
        "\n",
        "fig = plt.figure(constrained_layout=True, figsize=(20, 10))\n",
        "gs = fig.add_gridspec(2, 4)\n",
        "ax0 = fig.add_subplot(gs[:, :-2])\n",
        "ax0.fill_between(np.arange(len(mean_rewards)), \n",
        "                 mean_rewards - std_rewards, \n",
        "                 mean_rewards + std_rewards, \n",
        "                 label='Standard Deviation', alpha=0.3)\n",
        "ax0.plot(mean_rewards, label='Mean Rewards')\n",
        "ax0.set_ylabel('Rewards',fontsize=20)\n",
        "ax0.set_xlabel('Episode',fontsize=20)\n",
        "ax0.set_title('LSTM+PPO (default state vector + 5 stages) (discrete)', fontsize = 17)\n",
        "ax0.text\n",
        "ax0.legend(loc = 4)\n",
        "plt.yticks(fontsize = 15)\n",
        "plt.xticks(fontsize = 15)\n",
        "# plt.ylim([-300, 500])\n",
        "plt.grid()\n",
        " \n",
        "# ax1 = fig.add_subplot(gs[0, 2:])\n",
        "# ax1.plot(pol_loss)\n",
        "# ax1.set_ylabel('Loss')\n",
        "# ax1.set_xlabel('Iteration')\n",
        "# ax1.set_title('Policy Loss')\n",
        " \n",
        "# ax2 = fig.add_subplot(gs[1, 2:])\n",
        "# ax2.plot(vf_loss)\n",
        "# ax2.set_ylabel('Loss')\n",
        "# ax2.set_xlabel('Iteration')\n",
        "# ax2.set_title('Value Function Loss')\n",
        "\n",
        "plt.show()"
      ],
      "execution_count": null,
      "outputs": [
        {
          "output_type": "stream",
          "text": [
            "<Figure size 1440x720 with 1 Axes>\n"
          ],
          "name": "stdout"
        }
      ]
    },
    {
      "cell_type": "code",
      "metadata": {
        "id": "PR2PaFjqTNSD",
        "colab": {
          "base_uri": "https://localhost:8080/"
        },
        "outputId": "c577533b-466d-4a1c-bc3f-cdfcd2eb1109"
      },
      "source": [
        "x = np.hstack([i['episode_reward_mean'] \n",
        "    for i in results])\n",
        "print(x)\n",
        "f.write(\"1231234124124124\")"
      ],
      "execution_count": null,
      "outputs": [
        {
          "output_type": "stream",
          "text": [
            "[-50.31228548  -7.98596737  27.77829059  75.9633751  105.37748209\n",
            " 125.06710911 145.15631676 163.64269    178.64587193 195.2963669\n",
            " 209.86072028 210.95576095 209.53517701 208.35785857 223.7774969\n",
            " 240.13432058 252.39902309 256.51754938 256.07401555 262.12241826\n",
            " 261.09529551 264.39478709 270.01030156 276.73423531 288.83594986\n",
            " 302.18148053 313.79305548 321.36350317 321.80225837 325.4316903\n",
            " 328.28744786 334.61125669 342.04380714 340.07677887 339.28012031\n",
            " 339.50609005 344.50390518 348.20686916 346.30024446 348.94006975\n",
            " 349.83321143 350.34284941 347.93375271 344.43013024 345.09496436\n",
            " 349.76071669 346.4626225  355.80469155 360.55680892 371.14157346\n",
            " 375.50368778 377.66264995 381.22042658 377.41271968 380.65317705\n",
            " 384.70052355 389.23959044 379.51296819 378.1470011  378.07726971\n",
            " 383.3456547  386.14916269 391.32124975 389.78735005 387.98658857\n",
            " 377.38831962 381.0943569  383.78764204 395.90213639 403.26600124\n",
            " 403.90266227 401.30258612 397.7843437  391.59535735 391.13426323\n",
            " 388.74425948 399.43480079 404.75968234 399.1509186  402.31231226\n",
            " 394.65315612 405.39175638 407.02656652 419.18245744 415.13724673\n",
            " 412.25238311 411.74926756 404.98188359 399.88771987 396.62489704\n",
            " 404.96285963 409.40293408 410.62551931 409.27099548 410.9480316\n",
            " 410.73966283 418.3325046  408.03413103 400.55502158 396.7150819\n",
            " 403.82878513 412.21532382 412.1127836  418.54950998 429.9309915\n",
            " 431.69797938 423.05394529 410.79541012 415.61914761 418.6500963\n",
            " 413.93163429 408.42376294 404.17384353 411.21811131 417.42844143\n",
            " 427.07178195 421.55991163 420.70004576 420.17357957 424.00982831\n",
            " 417.09105966 416.0087145  413.20165592 415.31665057 413.8020087\n",
            " 415.63337774 414.97038646 418.22088703 419.27938364 423.66731921\n",
            " 427.13752854 423.16223946 422.49542181 413.14530696 415.87530893\n",
            " 410.7579874  412.97432678 408.88894397 410.24015412 417.42480647\n",
            " 426.57239841 428.04313067 423.7276878  426.72450295 426.75815042\n",
            " 419.88264196 417.2664408  416.43960842 422.19685526 419.11937607\n",
            " 420.37458622 427.39868604 433.76832064 441.13106461 436.11189828\n",
            " 424.66394156 422.31325061 423.98291976 431.61331182 429.63183057\n",
            " 429.12574587 431.38978391 426.36122177 425.78217804 429.0258704\n",
            " 435.68898797 434.07348153 429.54568291 430.97677928 435.10778478\n",
            " 434.37849908 428.71798479 425.70178802 428.24114782 432.1180662\n",
            " 433.22228752 434.38135579 437.88996469 444.95963857 440.27621974\n",
            " 432.49275736 428.15471632 432.85578499 436.92371341 431.99555417\n",
            " 424.20929405 415.962608   412.18102733 416.46810966 425.71247359\n",
            " 432.21866051 431.17100256 428.14297719 425.13496913 426.75947743\n",
            " 426.05953564 428.60894815 429.96136776 430.40167722 432.88154598\n",
            " 433.46529895 434.90664481 435.26479848 440.27555118 444.01901785\n",
            " 444.71415047 435.59845573 433.91161993 430.35476682 428.70721731\n",
            " 427.7897636  433.14968847 441.59087172 445.79593379 444.68254387\n",
            " 441.06241972 438.96906405 434.31171944 435.02805484 433.92164066\n",
            " 437.39889694 442.75815044 438.80577339 445.22134537 443.81383654\n",
            " 448.62935949 439.24426605 436.02567033 431.87942392 436.66381371\n",
            " 440.18294276 444.54047763 444.21426791 437.24720319 440.44619285\n",
            " 439.7677744  446.04495171 444.39806701 443.69855825 434.77403774\n",
            " 435.48017923 431.43445813 438.55259381 435.64056454 434.06971166\n",
            " 429.08177239 430.22851632 436.62812086 437.82020231 432.2330913\n",
            " 427.42942735 430.22502309 433.64004463 433.40384042 437.68299312\n",
            " 443.87790232 442.31627022 437.94455115 436.41797164 444.66820561\n",
            " 444.71504676 439.16916347 442.01225508 436.13200824 440.64774746\n",
            " 440.39170763 448.5949168  447.33518146 446.15536029 437.0093015\n",
            " 440.36842124 436.20515981 448.88026601 445.43524448 445.175478\n",
            " 442.37251201 441.53439146 443.97973398 440.97962781 440.4870378\n",
            " 430.57109543 431.40510628 431.2446627  431.54925855 428.91114517\n",
            " 422.52933323 428.06244062 432.50706286 438.21248012 439.17958858\n",
            " 440.54269042 442.62631049 443.9285069  437.21342154 437.39192904\n",
            " 439.35957518 442.3727563  443.18273827 440.18242384 440.98008342\n",
            " 440.00081434 440.93782861 435.06334389 425.41344363 421.09157349\n",
            " 426.3819919  438.65813705 445.6186254  444.36444163 441.72720467\n",
            " 432.44999906 427.71765283 427.73550509 434.38013881 440.19261442\n",
            " 432.19411637 434.36372492 435.59464112 445.89874062 442.30323126\n",
            " 440.71242958 437.89123206 443.93056383 445.09332475 447.25258996\n",
            " 439.92818454 444.03744726 443.37429951 441.61125471 439.26344704\n",
            " 441.15817634 445.45411251 442.20752715 442.14321634 440.00494907\n",
            " 442.67414412 442.55983201 445.95780268 441.72172395 437.74166201\n",
            " 433.60973986 435.88989603 433.46551342 441.94427548 440.85681048\n",
            " 445.87083737 438.54629232 443.1314407  442.46440788 442.83226216\n",
            " 441.72235417 445.51820117 445.51126336 447.95041143 444.76544919\n",
            " 446.84272502 443.12649851 442.43308181 446.86177994 439.24454893\n",
            " 436.51579865 428.29109428 437.50251818 440.12943104 440.59936278\n",
            " 436.08473154 439.6499037  446.32575347 447.16312142 441.16810114\n",
            " 434.40723434 431.38543588 432.3167417  433.19692092 433.53608078\n",
            " 426.78098512 424.07948141 426.88633964 438.8242461  443.9321349\n",
            " 446.83492507 442.9900197  442.04790337 445.43344053 441.18870107\n",
            " 445.10262585 440.72590521 443.64850048 444.39003862 434.65342414\n",
            " 437.28402488 430.31605323 440.22304802 439.25745787 451.00042304\n",
            " 450.79043071 451.11029283 439.49426829 445.81863888 441.15596108\n",
            " 442.9238013  434.59835907 439.88442678 441.35260526 439.76772845\n",
            " 441.08985666 444.30505524 445.76644222 443.08403488 436.48013169\n",
            " 434.7888225  433.57502979 434.88577638 434.71462903 431.76354149\n",
            " 435.3458414  438.5697851  444.16768794 446.00928786 448.02775426\n",
            " 447.99895076 447.04844243 439.32769573 440.80074336 440.29601642\n",
            " 448.29511905 444.53990993 437.12958382 425.49398579 422.54928565\n",
            " 434.62687489 443.73450192 448.59191824 441.34268886 448.65886362\n",
            " 442.34965882 447.42028651 444.69665695 446.80375457 438.42453155\n",
            " 432.83270531 432.64663984 436.93296179 440.58394461 443.88744999\n",
            " 444.19905779 436.24728403 440.53278334 434.89452796 441.81936059\n",
            " 440.68415357 446.04695415 443.91619375 444.41273574 443.15727031\n",
            " 442.66683017 437.9819168  441.74622358 444.80602662 449.39687838\n",
            " 445.8891257  446.69898907 446.47543342 443.59278784 448.39238137\n",
            " 453.18331533 460.0083758  454.35472787 446.88806096 448.33084648\n",
            " 448.27730912 453.2171637  452.84140264 449.15491734 446.19737242\n",
            " 443.02488038 446.30539532 445.99333617 441.32967372 439.54841425\n",
            " 437.62461789 443.96110522 448.96884326 446.18440575 439.37865606\n",
            " 441.23087528 444.3152842  447.35189193 434.67651919 435.48342111\n",
            " 440.44818747 448.10267524 442.7402702  440.75822829 433.33764926\n",
            " 433.32832626 433.94470029 438.87978461 439.73174811 433.43291438\n",
            " 434.28578877 438.94200597 438.8634905  440.46591414 441.00844254\n",
            " 444.04151778 447.73146453 440.15264041 446.32983206 438.63420699\n",
            " 439.75911408 438.88823537 438.76759951 447.20923884 444.10816919\n",
            " 453.05448946 455.17738423 453.69843209 449.91177591 445.55324555\n",
            " 449.81464458 450.85589638 454.07643784 448.71424285 448.4498598\n",
            " 441.38837244 441.9121878  441.28930331 438.90388717 442.06746718\n",
            " 435.47631014 441.65960967 445.12940759 451.40008787 454.57670251\n",
            " 455.94592145 457.23863013 450.96937064 451.26591305 454.02299362\n",
            " 460.32111934 452.23836514 442.53537523 443.86706009 447.14631974\n",
            " 455.86435796 453.56087445 451.6911813  452.38828606 453.37077475]\n"
          ],
          "name": "stdout"
        },
        {
          "output_type": "execute_result",
          "data": {
            "text/plain": [
              "16"
            ]
          },
          "metadata": {},
          "execution_count": 8
        }
      ]
    },
    {
      "cell_type": "code",
      "metadata": {
        "id": "qdku9tt71_aO"
      },
      "source": [
        "with open('Example2.txt', 'w') as writefile:\n",
        "  for i in x:\n",
        "\n",
        "    writefile.write(str(i))\n",
        "    writefile.write(\"\\n\")"
      ],
      "execution_count": null,
      "outputs": []
    }
  ]
}